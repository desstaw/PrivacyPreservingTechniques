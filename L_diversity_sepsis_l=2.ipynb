{
  "nbformat": 4,
  "nbformat_minor": 0,
  "metadata": {
    "colab": {
      "provenance": [],
      "authorship_tag": "ABX9TyNLy+CTy4UqciItA+5w8iss",
      "include_colab_link": true
    },
    "kernelspec": {
      "name": "python3",
      "display_name": "Python 3"
    },
    "language_info": {
      "name": "python"
    }
  },
  "cells": [
    {
      "cell_type": "markdown",
      "metadata": {
        "id": "view-in-github",
        "colab_type": "text"
      },
      "source": [
        "<a href=\"https://colab.research.google.com/github/desstaw/PrivacyPreservingTechniques/blob/main/L_diversity_sepsis_l%3D2.ipynb\" target=\"_parent\"><img src=\"https://colab.research.google.com/assets/colab-badge.svg\" alt=\"Open In Colab\"/></a>"
      ]
    },
    {
      "cell_type": "code",
      "execution_count": null,
      "metadata": {
        "id": "Mnc0HQl2Yo7d"
      },
      "outputs": [],
      "source": [
        "import pandas as pd\n",
        "from sklearn.preprocessing import StandardScaler\n",
        "import numpy as np\n",
        "import matplotlib.pyplot as plt\n",
        "import random\n",
        "\n",
        "# Load data the generalized data\n",
        "url = \"https://raw.githubusercontent.com/desstaw/PrivacyPreservingTechniques/main/datasets/sepsis.csv\"\n",
        "df = pd.read_csv(url)\n",
        "\n",
        "import warnings\n",
        "warnings.simplefilter('ignore')"
      ]
    },
    {
      "cell_type": "code",
      "source": [
        "df = df[['Age', 'Gender', 'HR', 'O2Sat', 'Temp', 'SBP', 'MAP', 'DBP', 'Resp', 'Hgb', 'WBC', 'Glucose', 'SepsisLabel']]\n",
        "df.isnull().sum()\n",
        "df.replace('', np.nan, inplace=True)\n",
        "df.dropna(inplace=True)\n",
        "df.info()"
      ],
      "metadata": {
        "colab": {
          "base_uri": "https://localhost:8080/"
        },
        "id": "4CMqTFuJ5Oih",
        "outputId": "87dc02de-7791-4079-dd67-349c7cec5da4"
      },
      "execution_count": null,
      "outputs": [
        {
          "output_type": "stream",
          "name": "stdout",
          "text": [
            "<class 'pandas.core.frame.DataFrame'>\n",
            "Int64Index: 907 entries, 0 to 1000\n",
            "Data columns (total 13 columns):\n",
            " #   Column       Non-Null Count  Dtype  \n",
            "---  ------       --------------  -----  \n",
            " 0   Age          907 non-null    int64  \n",
            " 1   Gender       907 non-null    float64\n",
            " 2   HR           907 non-null    float64\n",
            " 3   O2Sat        907 non-null    float64\n",
            " 4   Temp         907 non-null    float64\n",
            " 5   SBP          907 non-null    float64\n",
            " 6   MAP          907 non-null    float64\n",
            " 7   DBP          907 non-null    float64\n",
            " 8   Resp         907 non-null    float64\n",
            " 9   Hgb          907 non-null    float64\n",
            " 10  WBC          907 non-null    float64\n",
            " 11  Glucose      907 non-null    float64\n",
            " 12  SepsisLabel  907 non-null    float64\n",
            "dtypes: float64(12), int64(1)\n",
            "memory usage: 99.2 KB\n"
          ]
        }
      ]
    },
    {
      "cell_type": "markdown",
      "source": [
        "### Apply l-diversity on generalized heart dataset\n",
        "https://www.youtube.com/watch?v=GNhb3PcmjmA&list=PLZeK3TZueogEhGK0kTztL5ALQ_MkxgFCv&index=1&ab_channel=SecurityandPrivacyAcademy\n",
        "\n",
        "\n",
        "**Explanation**\n",
        "\n",
        "Here we remove the violated records"
      ],
      "metadata": {
        "id": "mlSvqDCYvpWI"
      }
    },
    {
      "cell_type": "code",
      "source": [
        "import pandas as pd\n",
        "from collections import Counter\n",
        "\n",
        "# Load the dataset\n",
        "#df = pd.read_csv('your_dataset.csv')  # Replace 'your_dataset.csv' with your actual dataset file\n",
        "\n",
        "# Define the sensitive attribute and l-diversity parameter\n",
        "sensitive_attribute = 'SepsisLabel'\n",
        "\n",
        "# Since thae target is binary, the maximumvalue the l-diversity can take is 2\n",
        "l_diversity = 2 \n",
        "\n",
        "# Define the quasi-identifiers\n",
        "\n",
        "# Option 1 --> gives 200 violations \n",
        "qi_cols = ['Age', 'Gender']\n",
        "#qi_cols = ['Age', 'Gender', 'HR', 'Temp', 'SBP', 'MAP', 'DBP', 'Resp', 'Hgb', 'WBC', 'Glucose', 'SepsisLabel']\n",
        "\n",
        "# Option 2 --> gives 500 violations\n",
        "#qi_cols = ['sex', 'fbs', 'restecg', 'age_range', 'chol_range']\n",
        "    \n",
        "\n",
        "# Initialize a list to store violated records\n",
        "violated_records = []\n",
        "\n",
        "# Check l-diversity for each group of records\n",
        "for qi_vals, group in df.groupby(qi_cols):\n",
        "    unique_sensitive_values = group[sensitive_attribute].unique()\n",
        "    \n",
        "    if len(unique_sensitive_values) < l_diversity:\n",
        "        violated_records.extend(group.index)\n",
        "\n",
        "# Print the total number of records that do not satisfy l-diversity\n",
        "num_violations = len(violated_records)\n",
        "print(f\"Total number of records violating l-diversity: {num_violations}\")\n",
        "\n",
        "# Remove violated records from the dataset\n",
        "df_filtered = df.drop(violated_records)\n",
        "df= df_filtered\n"
      ],
      "metadata": {
        "colab": {
          "base_uri": "https://localhost:8080/"
        },
        "id": "Oqha_kxWBwaz",
        "outputId": "ab35def5-f104-4176-eab9-118d4c09d01e"
      },
      "execution_count": null,
      "outputs": [
        {
          "output_type": "stream",
          "name": "stdout",
          "text": [
            "Total number of records violating l-diversity: 575\n"
          ]
        }
      ]
    },
    {
      "cell_type": "markdown",
      "source": [
        "Here, we can further anonymize the violated records instead of supressing them.\n",
        "How? I don't know yet 👀"
      ],
      "metadata": {
        "id": "6nH5NJdJDZvT"
      }
    },
    {
      "cell_type": "code",
      "source": [
        "'''\n",
        "# Define the sensitive attribute and l-diversity parameter\n",
        "sensitive_attribute = 'target'\n",
        "l_diversity = 2\n",
        "\n",
        "# Define the quasi-identifiers\n",
        "qi_cols = ['age_range', 'gender']  \n",
        "\n",
        "# Initialize a list to store violated records\n",
        "violated_records = []\n",
        "\n",
        "# Check l-diversity for each group of records\n",
        "for qi_vals, group in df.groupby(qi_cols):\n",
        "    unique_sensitive_values = group[sensitive_attribute].unique()\n",
        "    \n",
        "    if len(unique_sensitive_values) < l_diversity:\n",
        "        violated_records.extend(group.index)\n",
        "\n",
        "# Apply anonymization to violated records\n",
        "for index in violated_records:\n",
        "    # Apply  anonymization technique here\n",
        "    \n",
        "    \n",
        "    # Set the anonymized value for the sensitive attribute\n",
        "    df.at[index, sensitive_attribute] = 'Anonymized'  # Replace 'Anonymized' with your anonymized value\n",
        "\n",
        "# Output the anonymized dataset\n",
        "df.to_csv('anonymized_dataset.csv', index=False)  # Replace 'anonymized_dataset.csv' with your desired output filename\n",
        "'''\n"
      ],
      "metadata": {
        "colab": {
          "base_uri": "https://localhost:8080/",
          "height": 91
        },
        "id": "b_gKexl9DY2E",
        "outputId": "90c73efa-f35d-4622-a4ed-863d57a6f73c"
      },
      "execution_count": null,
      "outputs": [
        {
          "output_type": "execute_result",
          "data": {
            "text/plain": [
              "\"\\n# Define the sensitive attribute and l-diversity parameter\\nsensitive_attribute = 'target'\\nl_diversity = 2\\n\\n# Define the quasi-identifiers\\nqi_cols = ['age_range', 'gender']  \\n\\n# Initialize a list to store violated records\\nviolated_records = []\\n\\n# Check l-diversity for each group of records\\nfor qi_vals, group in df.groupby(qi_cols):\\n    unique_sensitive_values = group[sensitive_attribute].unique()\\n    \\n    if len(unique_sensitive_values) < l_diversity:\\n        violated_records.extend(group.index)\\n\\n# Apply anonymization to violated records\\nfor index in violated_records:\\n    # Apply  anonymization technique here\\n    \\n    \\n    # Set the anonymized value for the sensitive attribute\\n    df.at[index, sensitive_attribute] = 'Anonymized'  # Replace 'Anonymized' with your anonymized value\\n\\n# Output the anonymized dataset\\ndf.to_csv('anonymized_dataset.csv', index=False)  # Replace 'anonymized_dataset.csv' with your desired output filename\\n\""
            ],
            "application/vnd.google.colaboratory.intrinsic+json": {
              "type": "string"
            }
          },
          "metadata": {},
          "execution_count": 20
        }
      ]
    },
    {
      "cell_type": "code",
      "source": [
        "df.info()"
      ],
      "metadata": {
        "colab": {
          "base_uri": "https://localhost:8080/"
        },
        "id": "Hd-2Prjfw-DH",
        "outputId": "3c2256d7-f632-4503-9b3f-57c9eefa9780"
      },
      "execution_count": null,
      "outputs": [
        {
          "output_type": "stream",
          "name": "stdout",
          "text": [
            "<class 'pandas.core.frame.DataFrame'>\n",
            "Int64Index: 332 entries, 13 to 996\n",
            "Data columns (total 13 columns):\n",
            " #   Column       Non-Null Count  Dtype  \n",
            "---  ------       --------------  -----  \n",
            " 0   Age          332 non-null    int64  \n",
            " 1   Gender       332 non-null    float64\n",
            " 2   HR           332 non-null    float64\n",
            " 3   O2Sat        332 non-null    float64\n",
            " 4   Temp         332 non-null    float64\n",
            " 5   SBP          332 non-null    float64\n",
            " 6   MAP          332 non-null    float64\n",
            " 7   DBP          332 non-null    float64\n",
            " 8   Resp         332 non-null    float64\n",
            " 9   Hgb          332 non-null    float64\n",
            " 10  WBC          332 non-null    float64\n",
            " 11  Glucose      332 non-null    float64\n",
            " 12  SepsisLabel  332 non-null    float64\n",
            "dtypes: float64(12), int64(1)\n",
            "memory usage: 36.3 KB\n"
          ]
        }
      ]
    },
    {
      "cell_type": "code",
      "source": [
        "#df.head(50)"
      ],
      "metadata": {
        "id": "LycmtcljsJpX"
      },
      "execution_count": null,
      "outputs": []
    },
    {
      "cell_type": "markdown",
      "source": [
        "###Test l-diversity\n",
        "\n",
        "**Explanation**\n",
        "\n",
        "Set up a loop to iterate over each group of records in the df, grouped by their QI values. Group the records in the dataframe based on their QI values. For each group of records, check if the number of unique values in the sensitive attribute column is less than l_diversity. If so, the l-diversity criterion is not satisfied for that group."
      ],
      "metadata": {
        "id": "AfgYH6WBzMbZ"
      }
    },
    {
      "cell_type": "code",
      "source": [
        "df.columns"
      ],
      "metadata": {
        "colab": {
          "base_uri": "https://localhost:8080/"
        },
        "id": "duHVUisJ_9Nd",
        "outputId": "2c6091d1-1867-45e7-82f2-34ca3899445a"
      },
      "execution_count": null,
      "outputs": [
        {
          "output_type": "execute_result",
          "data": {
            "text/plain": [
              "Index(['Age', 'Gender', 'HR', 'O2Sat', 'Temp', 'SBP', 'MAP', 'DBP', 'Resp',\n",
              "       'Hgb', 'WBC', 'Glucose', 'SepsisLabel'],\n",
              "      dtype='object')"
            ]
          },
          "metadata": {},
          "execution_count": 23
        }
      ]
    },
    {
      "cell_type": "code",
      "source": [
        "from collections import Counter\n",
        "\n",
        "sensitive_attribute = 'SepsisLabel'\n",
        "\n",
        "l_diversity = 2\n",
        "\n",
        "# Initialize counter\n",
        "count = 0\n",
        "\n",
        "# Define the quasi-identifiers\n",
        "# Option 1 --> gives 200 violations \n",
        "qi_cols = ['Age', 'Gender']\n",
        "# Option 2 --> gives 500 violations\n",
        "#qi_cols = ['sex', 'fbs', 'restecg', 'age_range', 'chol_range']\n",
        "\n",
        "\n",
        "# Check l-diversity for each group of records\n",
        "for qi_vals, group in df.groupby(qi_cols):\n",
        "    if len(group[sensitive_attribute].unique()) < l_diversity:\n",
        "        #print(\"l-diversity is not satisfied for the group:\", qi_vals)\n",
        "        count += len(group)\n",
        "# Print the total number of records that do not satisfy l-diversity\n",
        "print(f\"Total number of records that do not satisfy l-diversity: {count}\")"
      ],
      "metadata": {
        "id": "gXNlnrXh4yVJ",
        "colab": {
          "base_uri": "https://localhost:8080/"
        },
        "outputId": "6f3aad2a-605e-4aba-d9ff-06ae3cdd908c"
      },
      "execution_count": null,
      "outputs": [
        {
          "output_type": "stream",
          "name": "stdout",
          "text": [
            "Total number of records that do not satisfy l-diversity: 0\n"
          ]
        }
      ]
    },
    {
      "cell_type": "code",
      "source": [
        "#from google.colab import drive\n",
        "#drive.mount('/content/drive')"
      ],
      "metadata": {
        "id": "_iUMRcBeVJvq"
      },
      "execution_count": null,
      "outputs": []
    },
    {
      "cell_type": "code",
      "source": [
        "#df.to_csv('/content/drive/MyDrive/Colab Notebooks/Sepsis/v4_sepsis.csv', index=False)"
      ],
      "metadata": {
        "id": "3gWUXXrxVLCC"
      },
      "execution_count": null,
      "outputs": []
    }
  ]
}