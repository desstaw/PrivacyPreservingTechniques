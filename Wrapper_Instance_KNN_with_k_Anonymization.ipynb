{
  "nbformat": 4,
  "nbformat_minor": 0,
  "metadata": {
    "colab": {
      "provenance": [],
      "authorship_tag": "ABX9TyOLghxLRwHOfm5p7SglnZtu",
      "include_colab_link": true
    },
    "kernelspec": {
      "name": "python3",
      "display_name": "Python 3"
    },
    "language_info": {
      "name": "python"
    }
  },
  "cells": [
    {
      "cell_type": "markdown",
      "metadata": {
        "id": "view-in-github",
        "colab_type": "text"
      },
      "source": [
        "<a href=\"https://colab.research.google.com/github/desstaw/PrivacyPreservingTechniques/blob/main/Wrapper_Instance_KNN_with_k_Anonymization.ipynb\" target=\"_parent\"><img src=\"https://colab.research.google.com/assets/colab-badge.svg\" alt=\"Open In Colab\"/></a>"
      ]
    },
    {
      "cell_type": "code",
      "execution_count": null,
      "metadata": {
        "id": "o-WrsoE4wLI7"
      },
      "outputs": [],
      "source": [
        "from sklearn.neighbors import KNeighborsClassifier\n",
        "import pandas as pd\n",
        "from sklearn.model_selection import train_test_split\n",
        "from functools import wraps\n",
        "from sklearn.preprocessing import MinMaxScaler\n",
        "from sklearn.metrics import accuracy_score\n",
        "from sklearn.metrics import recall_score\n",
        "from sklearn.metrics import f1_score \n",
        "import warnings\n",
        "warnings.simplefilter('ignore')"
      ]
    },
    {
      "cell_type": "code",
      "source": [
        "def train_and_evaluate_classifier(classifier, X_train, y_train, X_test, y_test):\n",
        "    # Train the classifier on the training dataset\n",
        "    classifier.fit(X_train, y_train)\n",
        "\n",
        "    # Predict labels on the testing dataset and calculate the evaluation metrics\n",
        "    y_pred = classifier.predict(X_test)\n",
        "    accuracy = accuracy_score(y_test, y_pred)\n",
        "    recall = recall_score(y_test, y_pred)\n",
        "    f1 = f1_score(y_test, y_pred)\n",
        "\n",
        "    # Print the evaluation metrics results\n",
        "    print(\"Accuracy:\", accuracy)\n",
        "    print(\"Recall:\", recall)\n",
        "    print(\"F1 score:\", f1)\n",
        "\n",
        "    return accuracy, recall, f1"
      ],
      "metadata": {
        "id": "T2bP1zqSwRZ6"
      },
      "execution_count": null,
      "outputs": []
    },
    {
      "cell_type": "code",
      "source": [
        "def anonymize_decorator(classifier):\n",
        "    def decorator(func):\n",
        "        @wraps(func)\n",
        "        def wrapper(*args, **kwargs):\n",
        "\n",
        "            # Split the original dataset into features and labels\n",
        "            X = args[0].iloc[:, :-1]\n",
        "            y = args[0].iloc[:, -1]\n",
        "\n",
        "            # Split into training and testing \n",
        "            X_train, X_test, y_train, y_test = train_test_split(X, y, test_size=0.2)\n",
        "\n",
        "            # Evaluate the classifier on the original dataset\n",
        "            print(\"Results on original dataset:\")\n",
        "            train_and_evaluate_classifier(classifier, X_train, y_train, X_test, y_test)\n",
        "\n",
        "            # Apply the privacy preserving technique to the dataset\n",
        "            anonym_dataset = func(*args, **kwargs)\n",
        "\n",
        "            # Split the anonymized dataset into features and labels\n",
        "            anonym_X = anonym_dataset.iloc[:, :-1]\n",
        "            anonym_y = anonym_dataset.iloc[:, -1]\n",
        "\n",
        "            # Split the anonymized dataset into training and testing\n",
        "            anonym_X_train, anonym_X_test, anonym_y_train, anonym_y_test = train_test_split(anonym_X, anonym_y, test_size=0.2)\n",
        "\n",
        "            # Evaluate the classifier on the anonymized dataset\n",
        "            print(\"Results on anonymized dataset:\")\n",
        "            train_and_evaluate_classifier(classifier, anonym_X_train, anonym_y_train, anonym_X_test, anonym_y_test)\n",
        "\n",
        "            # Return the anonymized dataset\n",
        "            return anonym_dataset\n",
        "        return wrapper\n",
        "    return decorator"
      ],
      "metadata": {
        "id": "FMwV-UYtwV0S"
      },
      "execution_count": null,
      "outputs": []
    },
    {
      "cell_type": "code",
      "source": [
        "# Create an instance of the KNeighborsClassifier (or any other classifier)\n",
        "knn_classifier = KNeighborsClassifier(n_neighbors=6)"
      ],
      "metadata": {
        "id": "QtCr9RRLwXix"
      },
      "execution_count": null,
      "outputs": []
    },
    {
      "cell_type": "code",
      "source": [
        "# Privacy preserving function decorator\n",
        "@anonymize_decorator(knn_classifier)\n",
        "def k_anonymize(dataset, columns):\n",
        "    \"\"\"\n",
        "    Anonymize certain columns of the database\n",
        "    using suppression and generalization\n",
        "    \n",
        "    :param dataset: The set of columns and rows composing the dataset\n",
        "    :param columns: Specific columns which entries are considered sensitive\n",
        "    \n",
        "    \"\"\"\n",
        "    \n",
        "    anon_dataset = dataset.copy()\n",
        "    # Describe the columns and their respective anonymization type\n",
        "    columns = [\n",
        "        {\"label\": \"sex\", \"type\": \"suppressed\"},\n",
        "        {\"label\": \"age\", \"type\": \"generalized\"}\n",
        "    ]\n",
        "    \n",
        "    # Target all sensitive columns\n",
        "    for column in columns:\n",
        "        column_label = column['label']\n",
        "        if column['type'] == 'suppressed':\n",
        "            # Replace all characters with asterix\n",
        "            anon_dataset[column_label] = ['*' for x in anon_dataset[column_label]]\n",
        "        \n",
        "        if column['type'] == 'semi-suppressed':\n",
        "            # Replace 70% of the characters with asterix\n",
        "            anon_dataset[column_label] = [('*'*(round(len(x)*.7)) + x[(round(len(x)*.7)):]) for x in anon_dataset[column_label]]\n",
        "        \n",
        "        if column['type'] == 'generalized':\n",
        "            # Summarize the data using ranges\n",
        "            for i in range(len(anon_dataset[column_label])):\n",
        "                # convert column type from int to string\n",
        "                anon_dataset[column_label] = anon_dataset[column_label].astype(str)\n",
        "                x = int(anon_dataset[column_label][i])\n",
        "                if x <= 40: anon_dataset[column_label][i] =  \"0-40\"\n",
        "                if x > 40 and x <= 60: anon_dataset[column_label][i] =  \"40-60\"\n",
        "                if x > 60 and x <= 100: anon_dataset[column_label][i] =  \"> 60\"\n",
        "            # specify the categories\n",
        "            categories = ['0-40', '40-60', '> 60']\n",
        "            # change the \"age\" column to the category data type\n",
        "            anon_dataset['age'] = pd.Categorical(anon_dataset['age'], categories=categories)\n",
        "            # convert the \"age\" column to float values using the cat.codes attribute\n",
        "            anon_dataset['age'] = anon_dataset['age'].cat.codes.astype(float)\n",
        "    # drop the \"sex\" column\n",
        "    anon_dataset = anon_dataset.drop('sex', axis=1)\n",
        "    return anon_dataset\n"
      ],
      "metadata": {
        "id": "EYEoSwY5wavi"
      },
      "execution_count": null,
      "outputs": []
    },
    {
      "cell_type": "code",
      "source": [
        "def preprocess(data):\n",
        "  #oldpeak to int\n",
        "  df['oldpeak'] = df['oldpeak'].astype(int) \n",
        "  #categorical to object\n",
        "  df['sex'] = df['sex'].astype(object) \n",
        "  df['cp'] = df['cp'].astype(object) \n",
        "  df['fbs'] = df['fbs'].astype(object) \n",
        "  df['restecg'] = df['restecg'].astype(object) \n",
        "  df['exang'] = df['exang'].astype(object) \n",
        "  df['slope'] = df['slope'].astype(object) \n",
        "  df['ca'] = df['ca'].astype(object) \n",
        "  df['thal'] = df['thal'].astype(object) \n",
        "  df['target'] = df['target'].astype(int)\n",
        "  df_norm = df.copy()\n",
        "  scaler = MinMaxScaler()\n",
        "  #scaler.fit(data)\n",
        "  df_norm[['trestbps', 'chol', 'thalach', 'oldpeak']] = scaler.fit_transform(df_norm[['trestbps', 'chol', 'thalach', 'oldpeak']])\n",
        "  return df_norm \n"
      ],
      "metadata": {
        "id": "yvBcWRxmweUZ"
      },
      "execution_count": null,
      "outputs": []
    },
    {
      "cell_type": "code",
      "source": [
        "# Read the dataset\n",
        "url = \"https://raw.githubusercontent.com/desstaw/PrivacyPreservingTechniques/main/datasets/heart.csv\"\n",
        "df = pd.read_csv(url)\n",
        "\n",
        "# Preprocess the data using a predefined preprocess() function\n",
        "df_preprocessed = preprocess(df)\n",
        "\n",
        "# Use the decorated function with the dataset\n",
        "anonym_dataset = k_anonymize(df_preprocessed, df_preprocessed.columns)"
      ],
      "metadata": {
        "colab": {
          "base_uri": "https://localhost:8080/"
        },
        "id": "fxmAYiJgwf9C",
        "outputId": "f0f3b0be-3734-49a7-cdb2-af8ce2a3c26f"
      },
      "execution_count": null,
      "outputs": [
        {
          "output_type": "stream",
          "name": "stdout",
          "text": [
            "Results on original dataset:\n",
            "Accuracy: 0.8878048780487805\n",
            "Recall: 0.84\n",
            "F1 score: 0.8795811518324608\n",
            "Results on anonymized dataset:\n",
            "Accuracy: 0.8634146341463415\n",
            "Recall: 0.8214285714285714\n",
            "F1 score: 0.8679245283018867\n"
          ]
        }
      ]
    }
  ]
}