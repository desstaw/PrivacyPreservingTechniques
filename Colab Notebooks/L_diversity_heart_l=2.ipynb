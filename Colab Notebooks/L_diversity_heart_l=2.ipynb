{
  "nbformat": 4,
  "nbformat_minor": 0,
  "metadata": {
    "colab": {
      "provenance": [],
      "authorship_tag": "ABX9TyNoGYekDfSgqgy9VFs9/VFk",
      "include_colab_link": true
    },
    "kernelspec": {
      "name": "python3",
      "display_name": "Python 3"
    },
    "language_info": {
      "name": "python"
    }
  },
  "cells": [
    {
      "cell_type": "markdown",
      "metadata": {
        "id": "view-in-github",
        "colab_type": "text"
      },
      "source": [
        "<a href=\"https://colab.research.google.com/github/desstaw/PrivacyPreservingTechniques/blob/main/L_diversity_heart_l%3D2.ipynb\" target=\"_parent\"><img src=\"https://colab.research.google.com/assets/colab-badge.svg\" alt=\"Open In Colab\"/></a>"
      ]
    },
    {
      "cell_type": "code",
      "execution_count": null,
      "metadata": {
        "id": "Mnc0HQl2Yo7d"
      },
      "outputs": [],
      "source": [
        "import pandas as pd\n",
        "from sklearn.preprocessing import StandardScaler\n",
        "import numpy as np\n",
        "import matplotlib.pyplot as plt\n",
        "import random\n",
        "\n",
        "# Load data the generalized data\n",
        "url = \"https://raw.githubusercontent.com/desstaw/PrivacyPreservingTechniques/main/datasets/v1_heart.csv\"\n",
        "df = pd.read_csv(url)\n",
        "\n",
        "import warnings\n",
        "warnings.simplefilter('ignore')"
      ]
    },
    {
      "cell_type": "code",
      "source": [
        "df.isnull().sum()\n",
        "df.replace('', np.nan, inplace=True)\n",
        "df.dropna(inplace=True)\n",
        "df.info()"
      ],
      "metadata": {
        "colab": {
          "base_uri": "https://localhost:8080/"
        },
        "id": "4CMqTFuJ5Oih",
        "outputId": "797f0864-eaed-4a8c-dcbb-43736e66e12c"
      },
      "execution_count": null,
      "outputs": [
        {
          "output_type": "stream",
          "name": "stdout",
          "text": [
            "<class 'pandas.core.frame.DataFrame'>\n",
            "Int64Index: 1000 entries, 0 to 1024\n",
            "Data columns (total 14 columns):\n",
            " #   Column         Non-Null Count  Dtype  \n",
            "---  ------         --------------  -----  \n",
            " 0   sex            1000 non-null   int64  \n",
            " 1   cp             1000 non-null   int64  \n",
            " 2   trestbps       1000 non-null   float64\n",
            " 3   fbs            1000 non-null   int64  \n",
            " 4   restecg        1000 non-null   int64  \n",
            " 5   thalach        1000 non-null   float64\n",
            " 6   exang          1000 non-null   int64  \n",
            " 7   slope          1000 non-null   int64  \n",
            " 8   ca             1000 non-null   object \n",
            " 9   thal           1000 non-null   object \n",
            " 10  age_range      1000 non-null   object \n",
            " 11  chol_range     1000 non-null   object \n",
            " 12  oldpeak_range  1000 non-null   object \n",
            " 13  target         1000 non-null   int64  \n",
            "dtypes: float64(2), int64(7), object(5)\n",
            "memory usage: 117.2+ KB\n"
          ]
        }
      ]
    },
    {
      "cell_type": "markdown",
      "source": [
        "### Apply l-diversity on generalized heart dataset\n",
        "https://www.youtube.com/watch?v=GNhb3PcmjmA&list=PLZeK3TZueogEhGK0kTztL5ALQ_MkxgFCv&index=1&ab_channel=SecurityandPrivacyAcademy\n",
        "\n",
        "\n",
        "**Explanation**\n",
        "\n",
        "Here we remove the violated records"
      ],
      "metadata": {
        "id": "mlSvqDCYvpWI"
      }
    },
    {
      "cell_type": "code",
      "source": [
        "import pandas as pd\n",
        "from collections import Counter\n",
        "\n",
        "# Load the dataset\n",
        "#df = pd.read_csv('your_dataset.csv')  # Replace 'your_dataset.csv' with your actual dataset file\n",
        "\n",
        "# Define the sensitive attribute and l-diversity parameter\n",
        "sensitive_attribute = 'target'\n",
        "\n",
        "# Since thae target is binary, the maximumvalue the l-diversity can take is 2\n",
        "l_diversity = 2 \n",
        "\n",
        "# Define the quasi-identifiers\n",
        "\n",
        "# Option 1 --> gives 200 violations \n",
        "qi_cols = ['age_range', 'sex', 'restecg', 'fbs']\n",
        "# Option 2 --> gives 500 violations\n",
        "#qi_cols = ['sex', 'fbs', 'restecg', 'age_range', 'chol_range']\n",
        "    \n",
        "\n",
        "# Initialize a list to store violated records\n",
        "violated_records = []\n",
        "\n",
        "# Check l-diversity for each group of records\n",
        "for qi_vals, group in df.groupby(qi_cols):\n",
        "    unique_sensitive_values = group[sensitive_attribute].unique()\n",
        "    \n",
        "    if len(unique_sensitive_values) < l_diversity:\n",
        "        violated_records.extend(group.index)\n",
        "\n",
        "# Print the total number of records that do not satisfy l-diversity\n",
        "num_violations = len(violated_records)\n",
        "print(f\"Total number of records violating l-diversity: {num_violations}\")\n",
        "\n",
        "# Remove violated records from the dataset\n",
        "df_filtered = df.drop(violated_records)\n",
        "df= df_filtered\n"
      ],
      "metadata": {
        "colab": {
          "base_uri": "https://localhost:8080/"
        },
        "id": "Oqha_kxWBwaz",
        "outputId": "e3d4b1c3-6a98-43cb-cfeb-8b15ad1b684d"
      },
      "execution_count": null,
      "outputs": [
        {
          "output_type": "stream",
          "name": "stdout",
          "text": [
            "Total number of records violating l-diversity: 205\n"
          ]
        }
      ]
    },
    {
      "cell_type": "markdown",
      "source": [
        "Here, we can further anonymize the violated records instead of supressing them.\n",
        "How? I don't know yet 👀"
      ],
      "metadata": {
        "id": "6nH5NJdJDZvT"
      }
    },
    {
      "cell_type": "code",
      "source": [
        "'''\n",
        "# Define the sensitive attribute and l-diversity parameter\n",
        "sensitive_attribute = 'target'\n",
        "l_diversity = 2\n",
        "\n",
        "# Define the quasi-identifiers\n",
        "qi_cols = ['age_range', 'gender']  \n",
        "\n",
        "# Initialize a list to store violated records\n",
        "violated_records = []\n",
        "\n",
        "# Check l-diversity for each group of records\n",
        "for qi_vals, group in df.groupby(qi_cols):\n",
        "    unique_sensitive_values = group[sensitive_attribute].unique()\n",
        "    \n",
        "    if len(unique_sensitive_values) < l_diversity:\n",
        "        violated_records.extend(group.index)\n",
        "\n",
        "# Apply anonymization to violated records\n",
        "for index in violated_records:\n",
        "    # Apply  anonymization technique here\n",
        "    \n",
        "    \n",
        "    # Set the anonymized value for the sensitive attribute\n",
        "    df.at[index, sensitive_attribute] = 'Anonymized'  # Replace 'Anonymized' with your anonymized value\n",
        "\n",
        "# Output the anonymized dataset\n",
        "df.to_csv('anonymized_dataset.csv', index=False)  # Replace 'anonymized_dataset.csv' with your desired output filename\n",
        "'''\n"
      ],
      "metadata": {
        "colab": {
          "base_uri": "https://localhost:8080/",
          "height": 91
        },
        "id": "b_gKexl9DY2E",
        "outputId": "ebb793e9-2547-4c16-afb9-f35db2211eeb"
      },
      "execution_count": null,
      "outputs": [
        {
          "output_type": "execute_result",
          "data": {
            "text/plain": [
              "\"\\n# Define the sensitive attribute and l-diversity parameter\\nsensitive_attribute = 'target'\\nl_diversity = 2\\n\\n# Define the quasi-identifiers\\nqi_cols = ['age_range', 'gender']  \\n\\n# Initialize a list to store violated records\\nviolated_records = []\\n\\n# Check l-diversity for each group of records\\nfor qi_vals, group in df.groupby(qi_cols):\\n    unique_sensitive_values = group[sensitive_attribute].unique()\\n    \\n    if len(unique_sensitive_values) < l_diversity:\\n        violated_records.extend(group.index)\\n\\n# Apply anonymization to violated records\\nfor index in violated_records:\\n    # Apply  anonymization technique here\\n    \\n    \\n    # Set the anonymized value for the sensitive attribute\\n    df.at[index, sensitive_attribute] = 'Anonymized'  # Replace 'Anonymized' with your anonymized value\\n\\n# Output the anonymized dataset\\ndf.to_csv('anonymized_dataset.csv', index=False)  # Replace 'anonymized_dataset.csv' with your desired output filename\\n\""
            ],
            "application/vnd.google.colaboratory.intrinsic+json": {
              "type": "string"
            }
          },
          "metadata": {},
          "execution_count": 310
        }
      ]
    },
    {
      "cell_type": "code",
      "source": [
        "df.info()"
      ],
      "metadata": {
        "colab": {
          "base_uri": "https://localhost:8080/"
        },
        "id": "Hd-2Prjfw-DH",
        "outputId": "a4db41e7-a5c5-4035-d332-aac35e0b2cc4"
      },
      "execution_count": null,
      "outputs": [
        {
          "output_type": "stream",
          "name": "stdout",
          "text": [
            "<class 'pandas.core.frame.DataFrame'>\n",
            "Int64Index: 795 entries, 0 to 1024\n",
            "Data columns (total 14 columns):\n",
            " #   Column         Non-Null Count  Dtype  \n",
            "---  ------         --------------  -----  \n",
            " 0   sex            795 non-null    int64  \n",
            " 1   cp             795 non-null    int64  \n",
            " 2   trestbps       795 non-null    float64\n",
            " 3   fbs            795 non-null    int64  \n",
            " 4   restecg        795 non-null    int64  \n",
            " 5   thalach        795 non-null    float64\n",
            " 6   exang          795 non-null    int64  \n",
            " 7   slope          795 non-null    int64  \n",
            " 8   ca             795 non-null    object \n",
            " 9   thal           795 non-null    object \n",
            " 10  age_range      795 non-null    object \n",
            " 11  chol_range     795 non-null    object \n",
            " 12  oldpeak_range  795 non-null    object \n",
            " 13  target         795 non-null    int64  \n",
            "dtypes: float64(2), int64(7), object(5)\n",
            "memory usage: 93.2+ KB\n"
          ]
        }
      ]
    },
    {
      "cell_type": "code",
      "source": [
        "#df.head(50)"
      ],
      "metadata": {
        "id": "LycmtcljsJpX"
      },
      "execution_count": null,
      "outputs": []
    },
    {
      "cell_type": "markdown",
      "source": [
        "###Test l-diversity\n",
        "\n",
        "**Explanation**\n",
        "\n",
        "Set up a loop to iterate over each group of records in the df, grouped by their QI values. Group the records in the dataframe based on their QI values. For each group of records, check if the number of unique values in the sensitive attribute column is less than l_diversity. If so, the l-diversity criterion is not satisfied for that group."
      ],
      "metadata": {
        "id": "AfgYH6WBzMbZ"
      }
    },
    {
      "cell_type": "code",
      "source": [
        "df.columns"
      ],
      "metadata": {
        "colab": {
          "base_uri": "https://localhost:8080/"
        },
        "id": "duHVUisJ_9Nd",
        "outputId": "0be0f503-1ace-439e-aa4f-1e031be2c4c1"
      },
      "execution_count": null,
      "outputs": [
        {
          "output_type": "execute_result",
          "data": {
            "text/plain": [
              "Index(['sex', 'cp', 'trestbps', 'fbs', 'restecg', 'thalach', 'exang', 'slope',\n",
              "       'ca', 'thal', 'age_range', 'chol_range', 'oldpeak_range', 'target'],\n",
              "      dtype='object')"
            ]
          },
          "metadata": {},
          "execution_count": 313
        }
      ]
    },
    {
      "cell_type": "code",
      "source": [
        "from collections import Counter\n",
        "\n",
        "sensitive_attribute = 'target'\n",
        "\n",
        "l_diversity = 2\n",
        "\n",
        "# Initialize counter\n",
        "count = 0\n",
        "\n",
        "# Define the quasi-identifiers\n",
        "# Option 1 --> gives 200 violations \n",
        "qi_cols = ['age_range', 'sex', 'restecg', 'fbs']\n",
        "# Option 2 --> gives 500 violations\n",
        "#qi_cols = ['sex', 'fbs', 'restecg', 'age_range', 'chol_range']\n",
        "\n",
        "\n",
        "# Check l-diversity for each group of records\n",
        "for qi_vals, group in df.groupby(qi_cols):\n",
        "    if len(group[sensitive_attribute].unique()) < l_diversity:\n",
        "        #print(\"l-diversity is not satisfied for the group:\", qi_vals)\n",
        "        count += len(group)\n",
        "# Print the total number of records that do not satisfy l-diversity\n",
        "print(f\"Total number of records that do not satisfy l-diversity: {count}\")"
      ],
      "metadata": {
        "id": "gXNlnrXh4yVJ",
        "colab": {
          "base_uri": "https://localhost:8080/"
        },
        "outputId": "7513c0d4-7df6-4217-c151-2070c82c614c"
      },
      "execution_count": null,
      "outputs": [
        {
          "output_type": "stream",
          "name": "stdout",
          "text": [
            "Total number of records that do not satisfy l-diversity: 0\n"
          ]
        }
      ]
    },
    {
      "cell_type": "code",
      "source": [
        "#from google.colab import drive\n",
        "#drive.mount('/content/drive')"
      ],
      "metadata": {
        "id": "-HiYdiGlNl_C"
      },
      "execution_count": null,
      "outputs": []
    },
    {
      "cell_type": "code",
      "source": [
        "#df.to_csv('/content/drive/MyDrive/Colab Notebooks/Sepsis/v2_heart.csv', index=False)"
      ],
      "metadata": {
        "id": "qjUc4cqQNo55"
      },
      "execution_count": null,
      "outputs": []
    }
  ]
}
